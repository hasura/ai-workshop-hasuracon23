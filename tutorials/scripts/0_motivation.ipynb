{
 "cells": [
  {
   "attachments": {},
   "cell_type": "markdown",
   "metadata": {},
   "source": [
    "#### Setting up langchain"
   ]
  },
  {
   "cell_type": "code",
   "execution_count": 36,
   "metadata": {},
   "outputs": [
    {
     "name": "stdout",
     "output_type": "stream",
     "text": [
      "Requirement already satisfied: langchain[openai] in /Users/simrat/Documents/work/Learnings/.venv/lib/python3.11/site-packages (0.0.200)\n",
      "Requirement already satisfied: PyYAML>=5.4.1 in /Users/simrat/Documents/work/Learnings/.venv/lib/python3.11/site-packages (from langchain[openai]) (6.0)\n",
      "Requirement already satisfied: SQLAlchemy<3,>=1.4 in /Users/simrat/Documents/work/Learnings/.venv/lib/python3.11/site-packages (from langchain[openai]) (2.0.15)\n",
      "Requirement already satisfied: aiohttp<4.0.0,>=3.8.3 in /Users/simrat/Documents/work/Learnings/.venv/lib/python3.11/site-packages (from langchain[openai]) (3.8.4)\n",
      "Requirement already satisfied: dataclasses-json<0.6.0,>=0.5.7 in /Users/simrat/Documents/work/Learnings/.venv/lib/python3.11/site-packages (from langchain[openai]) (0.5.7)\n",
      "Requirement already satisfied: langchainplus-sdk>=0.0.9 in /Users/simrat/Documents/work/Learnings/.venv/lib/python3.11/site-packages (from langchain[openai]) (0.0.10)\n",
      "Requirement already satisfied: numexpr<3.0.0,>=2.8.4 in /Users/simrat/Documents/work/Learnings/.venv/lib/python3.11/site-packages (from langchain[openai]) (2.8.4)\n",
      "Requirement already satisfied: numpy<2,>=1 in /Users/simrat/Documents/work/Learnings/.venv/lib/python3.11/site-packages (from langchain[openai]) (1.24.3)\n",
      "Requirement already satisfied: openai<1,>=0 in /Users/simrat/Documents/work/Learnings/.venv/lib/python3.11/site-packages (from langchain[openai]) (0.27.7)\n",
      "Requirement already satisfied: openapi-schema-pydantic<2.0,>=1.2 in /Users/simrat/Documents/work/Learnings/.venv/lib/python3.11/site-packages (from langchain[openai]) (1.2.4)\n",
      "Requirement already satisfied: pydantic<2,>=1 in /Users/simrat/Documents/work/Learnings/.venv/lib/python3.11/site-packages (from langchain[openai]) (1.10.8)\n",
      "Requirement already satisfied: requests<3,>=2 in /Users/simrat/Documents/work/Learnings/.venv/lib/python3.11/site-packages (from langchain[openai]) (2.31.0)\n",
      "Requirement already satisfied: tenacity<9.0.0,>=8.1.0 in /Users/simrat/Documents/work/Learnings/.venv/lib/python3.11/site-packages (from langchain[openai]) (8.2.2)\n",
      "Collecting tiktoken<0.4.0,>=0.3.2 (from langchain[openai])\n",
      "  Downloading tiktoken-0.3.3-cp311-cp311-macosx_11_0_arm64.whl (706 kB)\n",
      "\u001b[2K     \u001b[90m━━━━━━━━━━━━━━━━━━━━━━━━━━━━━━━━━━━━━━━\u001b[0m \u001b[32m706.4/706.4 kB\u001b[0m \u001b[31m8.7 MB/s\u001b[0m eta \u001b[36m0:00:00\u001b[0m00:01\u001b[0m00:01\u001b[0m\n",
      "\u001b[?25hRequirement already satisfied: attrs>=17.3.0 in /Users/simrat/Documents/work/Learnings/.venv/lib/python3.11/site-packages (from aiohttp<4.0.0,>=3.8.3->langchain[openai]) (23.1.0)\n",
      "Requirement already satisfied: charset-normalizer<4.0,>=2.0 in /Users/simrat/Documents/work/Learnings/.venv/lib/python3.11/site-packages (from aiohttp<4.0.0,>=3.8.3->langchain[openai]) (3.1.0)\n",
      "Requirement already satisfied: multidict<7.0,>=4.5 in /Users/simrat/Documents/work/Learnings/.venv/lib/python3.11/site-packages (from aiohttp<4.0.0,>=3.8.3->langchain[openai]) (6.0.4)\n",
      "Requirement already satisfied: async-timeout<5.0,>=4.0.0a3 in /Users/simrat/Documents/work/Learnings/.venv/lib/python3.11/site-packages (from aiohttp<4.0.0,>=3.8.3->langchain[openai]) (4.0.2)\n",
      "Requirement already satisfied: yarl<2.0,>=1.0 in /Users/simrat/Documents/work/Learnings/.venv/lib/python3.11/site-packages (from aiohttp<4.0.0,>=3.8.3->langchain[openai]) (1.9.2)\n",
      "Requirement already satisfied: frozenlist>=1.1.1 in /Users/simrat/Documents/work/Learnings/.venv/lib/python3.11/site-packages (from aiohttp<4.0.0,>=3.8.3->langchain[openai]) (1.3.3)\n",
      "Requirement already satisfied: aiosignal>=1.1.2 in /Users/simrat/Documents/work/Learnings/.venv/lib/python3.11/site-packages (from aiohttp<4.0.0,>=3.8.3->langchain[openai]) (1.3.1)\n",
      "Requirement already satisfied: marshmallow<4.0.0,>=3.3.0 in /Users/simrat/Documents/work/Learnings/.venv/lib/python3.11/site-packages (from dataclasses-json<0.6.0,>=0.5.7->langchain[openai]) (3.19.0)\n",
      "Requirement already satisfied: marshmallow-enum<2.0.0,>=1.5.1 in /Users/simrat/Documents/work/Learnings/.venv/lib/python3.11/site-packages (from dataclasses-json<0.6.0,>=0.5.7->langchain[openai]) (1.5.1)\n",
      "Requirement already satisfied: typing-inspect>=0.4.0 in /Users/simrat/Documents/work/Learnings/.venv/lib/python3.11/site-packages (from dataclasses-json<0.6.0,>=0.5.7->langchain[openai]) (0.9.0)\n",
      "Requirement already satisfied: tqdm in /Users/simrat/Documents/work/Learnings/.venv/lib/python3.11/site-packages (from openai<1,>=0->langchain[openai]) (4.65.0)\n",
      "Requirement already satisfied: typing-extensions>=4.2.0 in /Users/simrat/Documents/work/Learnings/.venv/lib/python3.11/site-packages (from pydantic<2,>=1->langchain[openai]) (4.6.2)\n",
      "Requirement already satisfied: idna<4,>=2.5 in /Users/simrat/Documents/work/Learnings/.venv/lib/python3.11/site-packages (from requests<3,>=2->langchain[openai]) (3.4)\n",
      "Requirement already satisfied: urllib3<3,>=1.21.1 in /Users/simrat/Documents/work/Learnings/.venv/lib/python3.11/site-packages (from requests<3,>=2->langchain[openai]) (2.0.2)\n",
      "Requirement already satisfied: certifi>=2017.4.17 in /Users/simrat/Documents/work/Learnings/.venv/lib/python3.11/site-packages (from requests<3,>=2->langchain[openai]) (2023.5.7)\n",
      "Requirement already satisfied: regex>=2022.1.18 in /Users/simrat/Documents/work/Learnings/.venv/lib/python3.11/site-packages (from tiktoken<0.4.0,>=0.3.2->langchain[openai]) (2023.5.5)\n",
      "Requirement already satisfied: packaging>=17.0 in /Users/simrat/Documents/work/Learnings/.venv/lib/python3.11/site-packages (from marshmallow<4.0.0,>=3.3.0->dataclasses-json<0.6.0,>=0.5.7->langchain[openai]) (23.1)\n",
      "Requirement already satisfied: mypy-extensions>=0.3.0 in /Users/simrat/Documents/work/Learnings/.venv/lib/python3.11/site-packages (from typing-inspect>=0.4.0->dataclasses-json<0.6.0,>=0.5.7->langchain[openai]) (1.0.0)\n",
      "Installing collected packages: tiktoken\n",
      "  Attempting uninstall: tiktoken\n",
      "    Found existing installation: tiktoken 0.4.0\n",
      "    Uninstalling tiktoken-0.4.0:\n",
      "      Successfully uninstalled tiktoken-0.4.0\n",
      "Successfully installed tiktoken-0.3.3\n"
     ]
    }
   ],
   "source": [
    "!pip install 'langchain[openai]'"
   ]
  },
  {
   "cell_type": "code",
   "execution_count": 37,
   "metadata": {},
   "outputs": [
    {
     "name": "stdout",
     "output_type": "stream",
     "text": [
      "Requirement already satisfied: openai in /Users/simrat/Documents/work/Learnings/.venv/lib/python3.11/site-packages (0.27.7)\n",
      "Requirement already satisfied: requests>=2.20 in /Users/simrat/Documents/work/Learnings/.venv/lib/python3.11/site-packages (from openai) (2.31.0)\n",
      "Requirement already satisfied: tqdm in /Users/simrat/Documents/work/Learnings/.venv/lib/python3.11/site-packages (from openai) (4.65.0)\n",
      "Requirement already satisfied: aiohttp in /Users/simrat/Documents/work/Learnings/.venv/lib/python3.11/site-packages (from openai) (3.8.4)\n",
      "Requirement already satisfied: charset-normalizer<4,>=2 in /Users/simrat/Documents/work/Learnings/.venv/lib/python3.11/site-packages (from requests>=2.20->openai) (3.1.0)\n",
      "Requirement already satisfied: idna<4,>=2.5 in /Users/simrat/Documents/work/Learnings/.venv/lib/python3.11/site-packages (from requests>=2.20->openai) (3.4)\n",
      "Requirement already satisfied: urllib3<3,>=1.21.1 in /Users/simrat/Documents/work/Learnings/.venv/lib/python3.11/site-packages (from requests>=2.20->openai) (2.0.2)\n",
      "Requirement already satisfied: certifi>=2017.4.17 in /Users/simrat/Documents/work/Learnings/.venv/lib/python3.11/site-packages (from requests>=2.20->openai) (2023.5.7)\n",
      "Requirement already satisfied: attrs>=17.3.0 in /Users/simrat/Documents/work/Learnings/.venv/lib/python3.11/site-packages (from aiohttp->openai) (23.1.0)\n",
      "Requirement already satisfied: multidict<7.0,>=4.5 in /Users/simrat/Documents/work/Learnings/.venv/lib/python3.11/site-packages (from aiohttp->openai) (6.0.4)\n",
      "Requirement already satisfied: async-timeout<5.0,>=4.0.0a3 in /Users/simrat/Documents/work/Learnings/.venv/lib/python3.11/site-packages (from aiohttp->openai) (4.0.2)\n",
      "Requirement already satisfied: yarl<2.0,>=1.0 in /Users/simrat/Documents/work/Learnings/.venv/lib/python3.11/site-packages (from aiohttp->openai) (1.9.2)\n",
      "Requirement already satisfied: frozenlist>=1.1.1 in /Users/simrat/Documents/work/Learnings/.venv/lib/python3.11/site-packages (from aiohttp->openai) (1.3.3)\n",
      "Requirement already satisfied: aiosignal>=1.1.2 in /Users/simrat/Documents/work/Learnings/.venv/lib/python3.11/site-packages (from aiohttp->openai) (1.3.1)\n"
     ]
    }
   ],
   "source": [
    "!pip install openai"
   ]
  },
  {
   "attachments": {},
   "cell_type": "markdown",
   "metadata": {},
   "source": [
    "#### Setting up OpenAI model for inference"
   ]
  },
  {
   "cell_type": "code",
   "execution_count": 71,
   "metadata": {},
   "outputs": [],
   "source": [
    "import os\n",
    "from pprint import pprint\n",
    "\n",
    "from langchain.llms import OpenAI\n",
    "from dotenv import load_dotenv\n",
    "load_dotenv()\n",
    "llm = OpenAI(openai_api_key=os.environ['OPENAI_APIKEY'])\n"
   ]
  },
  {
   "attachments": {},
   "cell_type": "markdown",
   "metadata": {},
   "source": [
    "#### Let's play around"
   ]
  },
  {
   "cell_type": "code",
   "execution_count": 82,
   "metadata": {},
   "outputs": [
    {
     "name": "stderr",
     "output_type": "stream",
     "text": [
      "Retrying langchain.llms.openai.completion_with_retry.<locals>._completion_with_retry in 4.0 seconds as it raised APIConnectionError: Error communicating with OpenAI: ('Connection aborted.', RemoteDisconnected('Remote end closed connection without response')).\n"
     ]
    },
    {
     "data": {
      "text/plain": [
       "'\\n\\nBrightSox.'"
      ]
     },
     "execution_count": 82,
     "metadata": {},
     "output_type": "execute_result"
    }
   ],
   "source": [
    "# Calling the LLM directly with a prompt\n",
    "llm.predict(\"What would be a good company name for a company that makes colorful socks?\")"
   ]
  },
  {
   "cell_type": "code",
   "execution_count": 87,
   "metadata": {},
   "outputs": [
    {
     "name": "stdout",
     "output_type": "stream",
     "text": [
      "What would be a good company name for a company that makes colorful candies?\n",
      "--- Approach 1 ---\n",
      "\n",
      "\n",
      "Sweet Splashes Candy Co.\n",
      "--- Approach 2 ---\n",
      "\n",
      "\n",
      "Colorful Tees Co.\n"
     ]
    }
   ],
   "source": [
    "# In case I want to automate this flow and have multiple inputs in same prompt\n",
    "# We can create a PromptTemplate for the same\n",
    "\n",
    "from langchain.prompts import PromptTemplate\n",
    "\n",
    "prompt_template = PromptTemplate.from_template(\"What would be a good company name for a company that makes {product}?\")\n",
    "prompt = prompt_template.format(product=\"colorful candies\")\n",
    "print(prompt)\n",
    "print(\"--- Approach 1 ---\")\n",
    "print(llm.predict(prompt))\n",
    "print(\"--- Approach 2 ---\")\n",
    "\n",
    "from langchain.chains import LLMChain\n",
    "chain = LLMChain(llm=llm, prompt=prompt_template)\n",
    "print(chain.run(\"colourful tees\"))\n"
   ]
  },
  {
   "attachments": {},
   "cell_type": "markdown",
   "metadata": {},
   "source": [
    "#### But what are these chains?"
   ]
  },
  {
   "attachments": {},
   "cell_type": "markdown",
   "metadata": {},
   "source": [
    "`Using an LLM in isolation is fine for simple applications, but more complex applications require chaining LLMs - either with each other or with other components. Chains allow us to combine multiple components together to create a single, coherent application. For example, we can create a chain that takes user input, formats it with a PromptTemplate, and then passes the formatted response to an LLM. We can build more complex chains by combining multiple chains together, or by combining chains with other components.` \n"
   ]
  },
  {
   "cell_type": "code",
   "execution_count": 88,
   "metadata": {},
   "outputs": [
    {
     "name": "stderr",
     "output_type": "stream",
     "text": [
      "Retrying langchain.llms.openai.completion_with_retry.<locals>._completion_with_retry in 4.0 seconds as it raised APIConnectionError: Error communicating with OpenAI: ('Connection aborted.', RemoteDisconnected('Remote end closed connection without response')).\n"
     ]
    },
    {
     "name": "stdout",
     "output_type": "stream",
     "text": [
      "\n",
      "\n",
      "CozyCrayons.\n"
     ]
    }
   ],
   "source": [
    "prompt = PromptTemplate(\n",
    "    input_variables=[\"company\", \"product\"],\n",
    "    template=\"What is a good name for {company} that makes {product}?\",\n",
    ")\n",
    "chain = LLMChain(llm=llm, prompt=prompt)\n",
    "print(chain.run({\n",
    "    'company': \"ABC Startup\",\n",
    "    'product': \"colorful socks\"\n",
    "    }))"
   ]
  },
  {
   "attachments": {},
   "cell_type": "markdown",
   "metadata": {},
   "source": [
    "#### Few drawbacks\n"
   ]
  },
  {
   "attachments": {},
   "cell_type": "markdown",
   "metadata": {},
   "source": [
    "LLMs are wonderful tools for text generation. They help us generate articles, summarised text and even help with some creative ideas. Challenge is that LLMs are frozen in time, so they don't do very well with information and sometimes can hallucinate."
   ]
  },
  {
   "cell_type": "code",
   "execution_count": 72,
   "metadata": {},
   "outputs": [
    {
     "name": "stdout",
     "output_type": "stream",
     "text": [
      "('\\n'\n",
      " '\\n'\n",
      " 'Langchain is a blockchain-based language learning platform that enables '\n",
      " 'users to learn a foreign language by earning tokens as rewards for '\n",
      " 'completing language-related tasks. The platform uses gamification elements '\n",
      " 'to encourage users to interact with and learn from one another. Langchain '\n",
      " 'also provides users with a marketplace to buy and sell language-related '\n",
      " 'services.')\n"
     ]
    }
   ],
   "source": [
    "# Langchain framework came into life after OpenAI models were released.\n",
    "pprint(llm.predict(\"what is langchain?\"))"
   ]
  },
  {
   "attachments": {},
   "cell_type": "markdown",
   "metadata": {},
   "source": [
    "LLMs even with their weakness are still very powerful. We can aid them with inputs and information to base their answers on to get desired outputs.\n",
    "\n",
    "In reference to our Langchain example. It is important to note - \n",
    "OpenAI models were latest trained on September 2021 and Langchain was launched in October 2022.\n",
    "Let us see what happens if we direct the LLM with some context."
   ]
  },
  {
   "cell_type": "code",
   "execution_count": 76,
   "metadata": {},
   "outputs": [
    {
     "name": "stdout",
     "output_type": "stream",
     "text": [
      "('Here is the information about langchain from wiki:\\n'\n",
      " 'LangChain is a framework designed to simplify the creation of applications '\n",
      " 'using large language models (LLMs). As a language model integration '\n",
      " \"framework, LangChain's use-cases largely overlap with those of language \"\n",
      " 'models in general, including document analysis and summarization, chatbots, '\n",
      " 'and code analysis.[1]            LangChain was launched in October 2022 as '\n",
      " 'an open source project by Harrison Chase, while working at machine learning '\n",
      " 'startup Robust Intelligence. The project quickly garnered popularity, with '\n",
      " 'improvements from hundreds of contributors on GitHub, trending discussions '\n",
      " \"on Twitter, lively activity on the project's Discord server, many YouTube \"\n",
      " 'tutorials, and meetups in San Francisco and London. In April 2023, the new '\n",
      " 'startup raised over $20 million in funding at a valuation of at least $200 '\n",
      " 'million from venture firm Sequoia Capital, a week after announcing a $10 '\n",
      " 'million seed investment from Benchmark.[2][3]')\n",
      "------------------\n",
      "('\\n'\n",
      " '\\n'\n",
      " 'LangChain is a framework designed to simplify the creation of applications '\n",
      " 'using large language models (LLMs).')\n"
     ]
    }
   ],
   "source": [
    "langchain_para =\"LangChain is a framework designed to simplify the creation of applications using large language models (LLMs). As a language model integration framework, LangChain's use-cases largely overlap with those of language models in general, including document analysis and summarization, chatbots, and code analysis.[1]\\\n",
    "            LangChain was launched in October 2022 as an open source project by Harrison Chase, while working at machine learning startup Robust Intelligence. The project quickly garnered popularity, with improvements from hundreds of contributors on GitHub, trending discussions on Twitter, lively activity on the project's Discord server, many YouTube tutorials, and meetups in San Francisco and London. In April 2023, the new startup raised over $20 million in funding at a valuation of at least $200 million from venture firm Sequoia Capital, a week after announcing a $10 million seed investment from Benchmark.[2][3]\"\n",
    "\n",
    "pprint(f\"Here is the information about langchain from wiki:\\n{langchain_para}\")\n",
    "\n",
    "print(\"------------------\")\n",
    "pprint(\n",
    "    llm.predict(\n",
    "        f\"what is langchain?\\\n",
    "            Answer from below paragraph:\\\n",
    "            {langchain_para}\\\n",
    "            \"\n",
    "        )\n",
    "    )"
   ]
  },
  {
   "cell_type": "code",
   "execution_count": 77,
   "metadata": {},
   "outputs": [
    {
     "name": "stdout",
     "output_type": "stream",
     "text": [
      "('         HR ADMINISTRATOR/MARKETING ASSOCIATE\\n'\n",
      " '\\n'\n",
      " 'HR ADMINISTRATOR       Summary     Dedicated Customer Service Manager with '\n",
      " '15+ years of experience in Hospitality and Customer Service Management.   '\n",
      " 'Respected builder and leader of customer-focused teams; strives to instill a '\n",
      " 'shared, enthusiastic commitment to customer service.         '\n",
      " 'Highlights         Focused on customer satisfaction  Team management  '\n",
      " 'Marketing savvy  Conflict resolution techniques     Training and '\n",
      " 'development  Skilled multi-tasker  Client relations specialist           '\n",
      " 'Accomplishments      Missouri DOT Supervisor Training Certification  '\n",
      " 'Certified by IHG in Customer Loyalty and Marketing by Segment   Hilton '\n",
      " 'Worldwide General Manager Training Certification  Accomplished Trainer for '\n",
      " 'cross server hospitality systems such as    Hilton OnQ  ,   Micros    Opera '\n",
      " 'PMS   , Fidelio    OPERA    Reservation System (ORS) ,   Holidex    '\n",
      " 'Completed courses and seminars in customer service, sales strategies, '\n",
      " 'inventory control, loss prevention, safety, time management, leadership and '\n",
      " 'performance assessment.        Experience      HR Administrator/Marketing '\n",
      " 'Associate\\n'\n",
      " '\\n'\n",
      " 'HR Administrator     Dec 2013   to   Current      Company Name   －   City  '\n",
      " ',   State     Helps to develop policies, directs and coordinates activities '\n",
      " 'such as employment, compensation, labor relations, benefits, training, and '\n",
      " 'employee services.  Prepares employee separation notices and related '\n",
      " 'documentation  Keeps records of benefits plans participation such as '\n",
      " 'insurance and pension plan, personnel transactions such as hires, '\n",
      " 'promotions, transfers, performance reviews, and terminations, and employee '\n",
      " 'statistics for government reporting.  Advises management in appropriate '\n",
      " 'resolution of employee relations issues.  Administers benefits programs such '\n",
      " 'as life, health, dental, insurance, pension plans, vacation, sick leave, '\n",
      " 'leave of absence, and employee assistance.     Marketing Associate \\xa0   '\n",
      " 'Designed and created marketing collateral for sales meetings, trade shows '\n",
      " 'and company executives.  Managed the in-house advertising program consisting '\n",
      " 'of print and media collateral pieces.  Assisted in the complete design and '\n",
      " \"launch of the company's website in 2 months.  Created an official company \"\n",
      " 'page on Facebook to facilitate interaction with customers.  Analyzed ratings '\n",
      " 'and programming features of competitors to evaluate the effectiveness of '\n",
      " 'marketing strategies.         Advanced Medical Claims Analyst     Mar 2012   '\n",
      " 'to   Dec 2013      Company Name   －   City  ,   State     Reviewed medical '\n",
      " 'bills for the accuracy of the treatments, tests, and hospital stays prior to '\n",
      " 'sanctioning the claims.  Trained to interpret the codes (ICD-9, CPT) and '\n",
      " 'terminology commonly used in medical billing to fully understand the '\n",
      " 'paperwork that is submitted by healthcare providers.  Required to have '\n",
      " 'organizational and analytical skills as well as computer skills, knowledge '\n",
      " 'of medical terminology and procedures, statistics, billing standards, data '\n",
      " 'analysis and laws regarding medical billing.         Assistant General '\n",
      " 'Manager     Jun 2010   to   Dec 2010      Company Name   －   City  ,   '\n",
      " 'State     Performed duties including but not limited to, budgeting and '\n",
      " 'financial management, accounting, human resources, payroll and purchasing.  '\n",
      " 'Established and maintained close working relationships with all departments '\n",
      " 'of the hotel to ensure maximum operation, productivity, morale and guest '\n",
      " 'service.  Handled daily operations and reported directly to the corporate '\n",
      " 'office.  Hired and trained staff on overall objectives and goals with an '\n",
      " 'emphasis on high customer service.  Marketing and Advertising, working on '\n",
      " 'public relations with the media, government and local businesses and Chamber '\n",
      " 'of Commerce.         Executive Support / Marketing Assistant     Jul 2007   '\n",
      " 'to   Jun 2010      Company Name   －   City  ,   State     Provided '\n",
      " 'assistance to various department heads - Executive, Marketing, Customer '\n",
      " 'Service, Human Resources.  Managed front-end operations to ensure friendly '\n",
      " 'and efficient transactions.  Ensured the swift resolution of customer issues '\n",
      " 'to preserve customer loyalty while complying with company policies.  '\n",
      " 'Exemplified the second-to-none customer service delivery in all interactions '\n",
      " 'with customers and potential clients.         Reservation & Front Office '\n",
      " 'Manager     Jun 2004   to   Jul 2007      Company Name   －   City  ,   '\n",
      " 'State          Owner/ Partner     Dec 2001   to   May 2004      Company '\n",
      " 'Name   －   City  ,   State          Price Integrity Coordinator     Aug '\n",
      " '1999   to   Dec 2001      Company Name   －   City  ,   State          '\n",
      " 'Education      N/A  ,   Business Administration   1999     Jefferson '\n",
      " 'College   －   City  ,   State       Business Administration  Marketing / '\n",
      " 'Advertising         High School Diploma  ,   College Prep. studies   '\n",
      " '1998     Sainte Genevieve Senior High   －   City  ,   State       Awarded '\n",
      " 'American Shrubel Leadership Scholarship to Jefferson College         '\n",
      " 'Skills     Accounting, ads, advertising, analytical skills, benefits, '\n",
      " 'billing, budgeting, clients, Customer Service, data analysis, delivery, '\n",
      " 'documentation, employee relations, financial management, government '\n",
      " 'relations, Human Resources, insurance, labor relations, layout, Marketing, '\n",
      " 'marketing collateral, medical billing, medical terminology, office, '\n",
      " 'organizational, payroll, performance reviews, personnel, policies, posters, '\n",
      " 'presentations, public relations, purchasing, reporting, statistics, '\n",
      " 'website.    ')\n"
     ]
    }
   ],
   "source": [
    "import pandas as pd\n",
    "df = pd.read_csv('data/Resume/Resume.csv')\n",
    "first_resume = df.iloc[0]['Resume_str']\n",
    "pprint(first_resume)"
   ]
  },
  {
   "cell_type": "code",
   "execution_count": 79,
   "metadata": {},
   "outputs": [
    {
     "name": "stdout",
     "output_type": "stream",
     "text": [
      "('\\n'\n",
      " '\\n'\n",
      " 'This resume highlights the experience of a HR Administrator and Marketing '\n",
      " 'Associate with 15+ years of experience in Hospitality and Customer Service '\n",
      " 'Management. The individual has certification in customer loyalty and '\n",
      " 'marketing and has expertise in conflict resolution, training and '\n",
      " 'development, and client relations.')\n"
     ]
    }
   ],
   "source": [
    "pprint(\n",
    "    llm.predict(\n",
    "        f\"Summarise from the experience of this resume in 2-3 lines\\\n",
    "            Resume content: {first_resume}\\\n",
    "            \"\n",
    "        )\n",
    "    )"
   ]
  },
  {
   "attachments": {},
   "cell_type": "markdown",
   "metadata": {},
   "source": [
    "WOW! This is very helpful\n",
    "But, we will soon end up with scale issues, if we are working with a really large resume text which goes beyond the context window. Or, if we looking to find candidates with skills we are searching for, we can't send all of the resumes available.\n",
    "\n",
    "To deal with this we will have to resort to chunking. Where we will chunk the resume by size with overlap.\n",
    "Such that when we are querying find the most relevant content and pass to LLM."
   ]
  },
  {
   "attachments": {},
   "cell_type": "markdown",
   "metadata": {},
   "source": [
    "#### Diving into chunking"
   ]
  },
  {
   "cell_type": "code",
   "execution_count": 81,
   "metadata": {},
   "outputs": [
    {
     "name": "stdout",
     "output_type": "stream",
     "text": [
      "68\n",
      "('HR ADMINISTRATOR/MARKETING ASSOCIATE\\n'\n",
      " '\\n'\n",
      " 'HR ADMINISTRATOR       Summary     Dedicated Customer')\n",
      "-----------\n",
      "('Dedicated Customer Service Manager with 15+ years of experience in '\n",
      " 'Hospitality and Customer Servic')\n",
      "-----------\n",
      "('and Customer Service Management.   Respected builder and leader of '\n",
      " 'customer-focused teams; strives')\n"
     ]
    }
   ],
   "source": [
    "from langchain.text_splitter import RecursiveCharacterTextSplitter\n",
    "\n",
    "text = df.iloc[0]['Resume_str']\n",
    "splitter = RecursiveCharacterTextSplitter(chunk_size=100, chunk_overlap=20, separators=[\".\"])\n",
    "chunks = splitter.split_text(text)\n",
    "\n",
    "print(len(chunks))\n",
    "pprint(chunks[0])\n",
    "print(\"-----------\")\n",
    "pprint(chunks[1])\n",
    "print(\"-----------\")\n",
    "pprint(chunks[2])\n"
   ]
  },
  {
   "attachments": {},
   "cell_type": "markdown",
   "metadata": {},
   "source": [
    "#### Lets get started"
   ]
  },
  {
   "attachments": {},
   "cell_type": "markdown",
   "metadata": {},
   "source": [
    "We start by setting up our data. \n",
    "Kindly follow `1_postgres_setup.ipynb`"
   ]
  }
 ],
 "metadata": {
  "kernelspec": {
   "display_name": ".venv",
   "language": "python",
   "name": "python3"
  },
  "language_info": {
   "codemirror_mode": {
    "name": "ipython",
    "version": 3
   },
   "file_extension": ".py",
   "mimetype": "text/x-python",
   "name": "python",
   "nbconvert_exporter": "python",
   "pygments_lexer": "ipython3",
   "version": "3.11.3"
  },
  "orig_nbformat": 4
 },
 "nbformat": 4,
 "nbformat_minor": 2
}
