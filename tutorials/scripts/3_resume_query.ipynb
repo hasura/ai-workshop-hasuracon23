{
 "cells": [
  {
   "attachments": {},
   "cell_type": "markdown",
   "metadata": {},
   "source": [
    "#### Set you Hasura Console"
   ]
  },
  {
   "attachments": {},
   "cell_type": "markdown",
   "metadata": {},
   "source": [
    "##### Step1: Add vector db data source on Hasura console\n",
    "\n",
    "1. Go to postgres table and track candidate and application\n",
    "2. Add Weaviate Agent by  clicking `Manage` on Data tab under Database panel on left\n",
    "    - Click `Data connector Agents` \n",
    "    - Click `Add Agent`\n",
    "    - Name => weaviate\n",
    "    - URL => weaviate-gdc:8100\n",
    "3. Connect Weaviate db \n",
    "    - Click `Connect Database`\n",
    "    - Select weaviate from db selection\n",
    "    - Connect Existing Database\n",
    "    - Type Database name\n",
    "    - Pick apiKey and host from weaviate cluster details\n",
    "\n",
    "\n",
    "Now I can start querying\n",
    "    \n"
   ]
  },
  {
   "attachments": {},
   "cell_type": "markdown",
   "metadata": {},
   "source": [
    "#### But, wait I am not allowed to be querying resumes "
   ]
  },
  {
   "attachments": {},
   "cell_type": "markdown",
   "metadata": {},
   "source": [
    "##### Step2: Define remote relationship\n",
    "\n",
    "1. Set relationship\n",
    "    - From weaviate table -> Relationship\n",
    "    - Give name `application_relationship`\n",
    "    - From resume (application_id) to application (id)"
   ]
  },
  {
   "attachments": {},
   "cell_type": "markdown",
   "metadata": {},
   "source": [
    "##### Step3: Define the permissions\n",
    "\n",
    "1. Set permission\n",
    "    - Go to Resume\n",
    "    - Create new role \"manager\" and update permissions for \"select\"\n",
    "        - {\n",
    "            \"application_relationship\": {\n",
    "                \"hiring_manager\": {\n",
    "                \"_eq\": \"x-hasura-manager-id\"\n",
    "                }\n",
    "            }\n",
    "            }\n",
    "    - Select permission for columns (Toggle all)\n",
    "2. Fetch by permission\n",
    "    - Go to API\n",
    "    - x-hasura-role : manager\n",
    "    - x-hasura-manager-id: Manager2"
   ]
  },
  {
   "cell_type": "code",
   "execution_count": null,
   "metadata": {},
   "outputs": [],
   "source": [
    "# query FetchResumeWithPermission {\n",
    "#   Resume(where: {vector: {near_text: \"marketing experience\"}}) {\n",
    "#     application_id\n",
    "#     content\n",
    "#     vector\n",
    "#   }\n",
    "# }\n",
    "\n",
    "# mutation MyMutation2 {\n",
    "#   insert_Resume(objects: {application_id: \"1000\", content: \"I have 10+ years of experience\"}) {\n",
    "#     affected_rows\n",
    "#   }\n",
    "# }"
   ]
  }
 ],
 "metadata": {
  "kernelspec": {
   "display_name": ".venv",
   "language": "python",
   "name": "python3"
  },
  "language_info": {
   "codemirror_mode": {
    "name": "ipython",
    "version": 3
   },
   "file_extension": ".py",
   "mimetype": "text/x-python",
   "name": "python",
   "nbconvert_exporter": "python",
   "pygments_lexer": "ipython3",
   "version": "3.11.3"
  },
  "orig_nbformat": 4
 },
 "nbformat": 4,
 "nbformat_minor": 2
}
